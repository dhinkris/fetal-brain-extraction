{
 "cells": [
  {
   "cell_type": "code",
   "execution_count": 1,
   "metadata": {},
   "outputs": [
    {
     "name": "stderr",
     "output_type": "stream",
     "text": [
      "/Users/cnmc/anaconda3/lib/python2.7/site-packages/h5py/__init__.py:36: FutureWarning: Conversion of the second argument of issubdtype from `float` to `np.floating` is deprecated. In future, it will be treated as `np.float64 == np.dtype(float).type`.\n",
      "  from ._conv import register_converters as _register_converters\n"
     ]
    }
   ],
   "source": [
    "import pandas as pd\n",
    "from skimage.util.shape import view_as_windows\n",
    "import numpy as np\n",
    "import os, sys, shutil\n",
    "import scipy.ndimage as snd\n",
    "import h5py\n",
    "import SimpleITK as sitk\n",
    "from shutil import copy\n",
    "import nibabel as nib\n",
    "import skimage.morphology as morph\n",
    "from skimage.feature import canny\n",
    "from tqdm import tqdm\n",
    "import pandas as pd\n",
    "import matplotlib.pyplot as plt\n",
    "import tensorflow as tf\n",
    "from sklearn.preprocessing import OneHotEncoder\n",
    "%matplotlib inline\n",
    "\n",
    "data = pd.read_csv(\"./loaders/train_test_split.csv\")"
   ]
  },
  {
   "cell_type": "code",
   "execution_count": 2,
   "metadata": {},
   "outputs": [
    {
     "name": "stdout",
     "output_type": "stream",
     "text": [
      "(16,)\n"
     ]
    }
   ],
   "source": [
    "window_shape=(4,4)\n",
    "feature=[]\n",
    "target=[]\n",
    "for train_data in data[data['Training']==True]['Slice Path']:\n",
    "    with h5py.File(train_data,'r') as hdf:\n",
    "        image = np.squeeze(np.array(hdf.get('image')))\n",
    "        mask = np.squeeze(np.array(hdf.get('weight_map')))\n",
    "        B = view_as_windows(image, window_shape)\n",
    "        for b in B:\n",
    "            for b_ in b:\n",
    "                feature.append(b_.flatten())\n",
    "        M = view_as_windows(mask, window_shape)\n",
    "        for m in M:\n",
    "            for m_ in m:\n",
    "                if np.sum(m_[:,:]) > 0:\n",
    "                    target.append(1)\n",
    "                else:\n",
    "                    target.append(0)\n",
    "feature=np.array(feature)\n",
    "target=np.array(target)\n",
    "\n",
    "print(feature[0].shape)"
   ]
  },
  {
   "cell_type": "code",
   "execution_count": 3,
   "metadata": {},
   "outputs": [],
   "source": [
    "df = pd.DataFrame(feature, columns=list('ABCDEFGHIJKLMNOP'))\n",
    "df['target']=target"
   ]
  },
  {
   "cell_type": "code",
   "execution_count": 4,
   "metadata": {},
   "outputs": [
    {
     "data": {
      "text/plain": [
       "KNeighborsClassifier(algorithm='auto', leaf_size=30, metric='minkowski',\n",
       "           metric_params=None, n_jobs=1, n_neighbors=5, p=2,\n",
       "           weights='uniform')"
      ]
     },
     "execution_count": 4,
     "metadata": {},
     "output_type": "execute_result"
    }
   ],
   "source": [
    "from sklearn.neighbors import KNeighborsClassifier\n",
    "neigh = KNeighborsClassifier(n_neighbors=5)\n",
    "\n",
    "neigh.fit(df.iloc[:,:16],df.iloc[:,16])"
   ]
  },
  {
   "cell_type": "code",
   "execution_count": 5,
   "metadata": {},
   "outputs": [],
   "source": [
    "test_feature=[]\n",
    "for train_data in data[data['Testing']==True]['Slice Path'][:1]:\n",
    "    with h5py.File(train_data,'r') as hdf:\n",
    "        image = np.squeeze(np.array(hdf.get('image')))\n",
    "        B = view_as_windows(image, window_shape)\n",
    "        for b in B:\n",
    "            for b_ in b:\n",
    "                test_feature.append(b_.flatten())\n",
    "df_test = pd.DataFrame(test_feature, columns=list('ABCDEFGHIJKLMNOP'))"
   ]
  },
  {
   "cell_type": "code",
   "execution_count": 6,
   "metadata": {},
   "outputs": [
    {
     "data": {
      "text/plain": [
       "[<matplotlib.lines.Line2D at 0x1c8a9d7f90>]"
      ]
     },
     "execution_count": 6,
     "metadata": {},
     "output_type": "execute_result"
    },
    {
     "data": {
      "image/png": "[encoded data removed]",
      "text/plain": [
       "<matplotlib.figure.Figure at 0x1067daa10>"
      ]
     },
     "metadata": {},
     "output_type": "display_data"
    }
   ],
   "source": [
    "res=neigh.predict(df_test.iloc[:,:16])\n",
    "plt.plot(res)"
   ]
  },
  {
   "cell_type": "code",
   "execution_count": 7,
   "metadata": {},
   "outputs": [
    {
     "data": {
      "text/plain": [
       "<matplotlib.image.AxesImage at 0x1d383f5f10>"
      ]
     },
     "execution_count": 7,
     "metadata": {},
     "output_type": "execute_result"
    },
    {
     "data": {
      "image/png": "[encoded data removed]",
      "text/plain": [
       "<matplotlib.figure.Figure at 0x1c8bdeb190>"
      ]
     },
     "metadata": {},
     "output_type": "display_data"
    }
   ],
   "source": [
    "plt.imshow(res.reshape(253,253))"
   ]
  },
  {
   "cell_type": "code",
   "execution_count": null,
   "metadata": {},
   "outputs": [],
   "source": [
    "test_feature=[]\n",
    "for train_data in data[data['Testing']==True]['Slice Path'][:5]:\n",
    "    with h5py.File(train_data,'r') as hdf:\n",
    "        image = np.squeeze(np.array(hdf.get('image')))\n",
    "        B = view_as_windows(image, window_shape)\n",
    "        for b in B:\n",
    "            for b_ in b:\n",
    "                test_feature.append(b_.flatten())\n",
    "df_test = pd.DataFrame(test_feature, columns=list('ABCDEFGHIJKLMNOP'))\n",
    "res=neigh.predict(df_test.iloc[:,:16])\n",
    "plt.imshow(res.reshape(253,253))"
   ]
  },
  {
   "cell_type": "code",
   "execution_count": null,
   "metadata": {},
   "outputs": [],
   "source": []
  }
 ],
 "metadata": {
  "kernelspec": {
   "display_name": "Python 3",
   "language": "python",
   "name": "python3"
  },
  "language_info": {
   "codemirror_mode": {
    "name": "ipython",
    "version": 2
   },
   "file_extension": ".py",
   "mimetype": "text/x-python",
   "name": "python",
   "nbconvert_exporter": "python",
   "pygments_lexer": "ipython2",
   "version": "2.7.8"
  }
 },
 "nbformat": 4,
 "nbformat_minor": 2
}
